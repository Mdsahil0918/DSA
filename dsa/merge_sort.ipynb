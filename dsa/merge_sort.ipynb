{
 "cells": [
  {
   "cell_type": "code",
   "execution_count": 6,
   "metadata": {},
   "outputs": [],
   "source": [
    "def merge_sorteda_array(arr1,arr2):\n",
    "    i=j=0\n",
    "    m=[]\n",
    "    while i < len(arr1) and j < len(arr2):\n",
    "        if arr1[i] < arr2[j]:\n",
    "            m.append(arr1[i])\n",
    "            i+=1\n",
    "        else:\n",
    "            m.append(arr2[j])\n",
    "            j+=1\n",
    "    while i < len(arr1):\n",
    "        m.append(arr1[i])\n",
    "        i+=1\n",
    "\n",
    "    while j< len(arr2):\n",
    "        m.append(arr2[j])\n",
    "        j+=1        \n",
    "    return m"
   ]
  },
  {
   "cell_type": "markdown",
   "metadata": {},
   "source": [
    "for the sorted \n",
    "array"
   ]
  },
  {
   "cell_type": "code",
   "execution_count": 7,
   "metadata": {},
   "outputs": [],
   "source": [
    "def merge_sort(arr):\n",
    "    if len(arr)==1:\n",
    "        return arr\n",
    "    mid=len(arr)//2\n",
    "    left=arr[:mid]\n",
    "    right =arr[mid:]\n",
    "    lef=merge_sort(left)\n",
    "    right= merge_sort(right)\n",
    "    return merge_sorteda_array(left,right)"
   ]
  },
  {
   "cell_type": "code",
   "execution_count": 8,
   "metadata": {},
   "outputs": [],
   "source": [
    "arr=[1,4,3,6,2,9,8,7]"
   ]
  },
  {
   "cell_type": "code",
   "execution_count": 9,
   "metadata": {},
   "outputs": [
    {
     "data": {
      "text/plain": [
       "[1, 2, 4, 3, 6, 7, 8, 9]"
      ]
     },
     "execution_count": 9,
     "metadata": {},
     "output_type": "execute_result"
    }
   ],
   "source": [
    "merge_sort(arr)"
   ]
  },
  {
   "cell_type": "code",
   "execution_count": null,
   "metadata": {},
   "outputs": [],
   "source": []
  }
 ],
 "metadata": {
  "kernelspec": {
   "display_name": "base",
   "language": "python",
   "name": "python3"
  },
  "language_info": {
   "codemirror_mode": {
    "name": "ipython",
    "version": 3
   },
   "file_extension": ".py",
   "mimetype": "text/x-python",
   "name": "python",
   "nbconvert_exporter": "python",
   "pygments_lexer": "ipython3",
   "version": "3.12.4"
  }
 },
 "nbformat": 4,
 "nbformat_minor": 2
}
