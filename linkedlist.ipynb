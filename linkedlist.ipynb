{
 "cells": [
  {
   "cell_type": "code",
   "execution_count": 1,
   "metadata": {},
   "outputs": [],
   "source": [
    "class Node:\n",
    "    def __init__(self,value):\n",
    "        self.data=value\n",
    "        self.next =None\n",
    "a=Node(1)\n",
    "b=Node(2)\n",
    "c=Node(3)     \n",
    "# i have made induidual node and connect them to from a LL\n",
    "a.next=b\n",
    "b.next=c"
   ]
  },
  {
   "cell_type": "code",
   "execution_count": 20,
   "metadata": {},
   "outputs": [],
   "source": [
    "class LinkedList:\n",
    "    def __init__(self):\n",
    "        #empty linked list\n",
    "        self.head =None\n",
    "        self.n = 0\n",
    "\n",
    "    def __len__(self):\n",
    "        return self.n\n",
    "\n",
    "    def insert_head(self,value):\n",
    "            new_node=Node(value)\n",
    "            new_node.next =self.head\n",
    "            self.head = new_node\n",
    "            self.n+=1\n",
    "\n",
    "    def __str__(self):\n",
    "        result=''\n",
    "        curr = self.head\n",
    "        while curr!=None:\n",
    "            result=result+str(curr.data)+'->'\n",
    "            curr=curr.next\n",
    "        return result[:-2]\n",
    "\n",
    "    def append(self,value):\n",
    "        new_node=Node(value)\n",
    "        if self.head==None:\n",
    "            self.head=new_node\n",
    "        else:\n",
    "            curr=self.head\n",
    "            while curr.next!=None:\n",
    "                curr=curr.next\n",
    "                # i aam at the last node\n",
    "            curr.next=new_node\n",
    "        self.n+=1\n",
    "\n",
    "    def insert_after(self,after,value):\n",
    "        new_node=Node(value)\n",
    "        curr=self.head\n",
    "        while curr!=None:\n",
    "            if curr.data==after:\n",
    "                break\n",
    "            curr=curr.next\n",
    "        if curr!=None:\n",
    "            new_node.next = curr.next\n",
    "            curr.next = new_node\n",
    "        else:\n",
    "            return 'item not found'\n",
    "\n",
    "    def clear(self):\n",
    "        self.head=None\n",
    "        self.n=0\n",
    "    def delete_head(self):\n",
    "        if self.head==None:\n",
    "            return 'Emptylist'\n",
    "        self.head=self.head.next\n",
    "        self.n-=1\n",
    "    def delete_tail(self):\n",
    "        if self.head ==None:\n",
    "            return 'list is empty cant delete anything'\n",
    "\n",
    "        curr=self.head\n",
    "        if curr.next==None:\n",
    "            return self.delete_head()\n",
    "\n",
    "        while curr.next.next!=None:\n",
    "            curr=curr.next   \n",
    "        curr.next=None\n",
    "        self.n-=1\n",
    "    def delete_by_value(self,value):\n",
    "        if self.head is None:\n",
    "            return 'list is empty'\n",
    "\n",
    "        if self.head.data == value:\n",
    "            self.head=self.head.next\n",
    "            self.n-=1\n",
    "\n",
    "        curr = self.head\n",
    "        while curr.next !=None:\n",
    "            if curr.next.data==value:\n",
    "                break\n",
    "            curr =curr.next\n",
    "        if curr.next is None:\n",
    "            return 'not found'\n",
    "        curr.next=curr.next.next\n",
    "        self.n-=1\n",
    "\n",
    "    def search(self,item):\n",
    "        curr =self.head\n",
    "        pos =0\n",
    "        while curr != None:\n",
    "            if curr.data==item:\n",
    "                return pos\n",
    "            curr = curr.next\n",
    "            pos+=1\n",
    "        return 'item not found'\n",
    "\n",
    "    def __getitem__(self,index):\n",
    "        curr = self.head\n",
    "        pos =0\n",
    "        while curr !=None:\n",
    "            if pos== index:\n",
    "                return curr.data\n",
    "            curr=curr.next\n",
    "            pos+=1\n",
    "            raise IndexError\n",
    "    def reverse(self):\n",
    "        prev =None\n",
    "        curr =self.head\n",
    "        while curr!=None:\n",
    "            next_node=curr.next\n",
    "            curr.next=prev\n",
    "            prev =curr\n",
    "            curr=next_node\n",
    "        self.head=prev "
   ]
  },
  {
   "cell_type": "markdown",
   "metadata": {},
   "source": []
  },
  {
   "cell_type": "code",
   "execution_count": 21,
   "metadata": {},
   "outputs": [
    {
     "name": "stdout",
     "output_type": "stream",
     "text": [
      "4->3->2->1\n"
     ]
    }
   ],
   "source": [
    "L=LinkedList()\n",
    "L.insert_head(1)\n",
    "L.insert_head(2)\n",
    "L.insert_head(3)\n",
    "L.insert_head(4)\n",
    "\n",
    "print(L)"
   ]
  },
  {
   "cell_type": "code",
   "execution_count": 22,
   "metadata": {},
   "outputs": [
    {
     "name": "stdout",
     "output_type": "stream",
     "text": [
      "5->4->3->2->1->0\n"
     ]
    }
   ],
   "source": [
    "L.insert_head(5)\n",
    "L.append(0)\n",
    "print(L)"
   ]
  },
  {
   "cell_type": "code",
   "execution_count": 52,
   "metadata": {},
   "outputs": [],
   "source": [
    "L.delete_head()"
   ]
  },
  {
   "cell_type": "code",
   "execution_count": 53,
   "metadata": {},
   "outputs": [
    {
     "name": "stdout",
     "output_type": "stream",
     "text": [
      "4->3->2->1->6\n"
     ]
    }
   ],
   "source": [
    "print(L)\n",
    "#0 was there but now its not because head\n",
    "#  is deleted mean the pointer is shifted to the next "
   ]
  },
  {
   "cell_type": "code",
   "execution_count": 11,
   "metadata": {},
   "outputs": [
    {
     "name": "stdout",
     "output_type": "stream",
     "text": [
      "4->3->2\n"
     ]
    }
   ],
   "source": [
    "L.delete_tail()\n",
    "print(L)"
   ]
  },
  {
   "cell_type": "code",
   "execution_count": 12,
   "metadata": {},
   "outputs": [
    {
     "data": {
      "text/plain": [
       "2"
      ]
     },
     "execution_count": 12,
     "metadata": {},
     "output_type": "execute_result"
    }
   ],
   "source": [
    "L.search(2)"
   ]
  },
  {
   "cell_type": "code",
   "execution_count": 59,
   "metadata": {},
   "outputs": [
    {
     "data": {
      "text/plain": [
       "'not found'"
      ]
     },
     "execution_count": 59,
     "metadata": {},
     "output_type": "execute_result"
    }
   ],
   "source": [
    "L.delete_by_value(3)"
   ]
  },
  {
   "cell_type": "code",
   "execution_count": 23,
   "metadata": {},
   "outputs": [
    {
     "name": "stdout",
     "output_type": "stream",
     "text": [
      "0->1->2->3->4->5\n"
     ]
    }
   ],
   "source": [
    "\n",
    "L.reverse()\n",
    "print(L)"
   ]
  },
  {
   "cell_type": "code",
   "execution_count": null,
   "metadata": {},
   "outputs": [],
   "source": []
  }
 ],
 "metadata": {
  "kernelspec": {
   "display_name": "base",
   "language": "python",
   "name": "python3"
  },
  "language_info": {
   "codemirror_mode": {
    "name": "ipython",
    "version": 3
   },
   "file_extension": ".py",
   "mimetype": "text/x-python",
   "name": "python",
   "nbconvert_exporter": "python",
   "pygments_lexer": "ipython3",
   "version": "3.12.4"
  }
 },
 "nbformat": 4,
 "nbformat_minor": 2
}
