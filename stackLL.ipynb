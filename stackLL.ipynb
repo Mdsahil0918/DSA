{
 "cells": [
  {
   "cell_type": "code",
   "execution_count": 2,
   "metadata": {},
   "outputs": [],
   "source": [
    "class Node:\n",
    "    def __init__(self, value):\n",
    "        self.data = value\n",
    "        self.next = None\n",
    "\n",
    "class Stack:\n",
    "    def __init__(self):\n",
    "        self.top = None\n",
    "\n",
    "    def isempty(self):\n",
    "        return self.top is None\n",
    "\n",
    "    def push(self, value):\n",
    "        new_node = Node(value)\n",
    "        new_node.next = self.top\n",
    "        self.top = new_node\n",
    "\n",
    "    def traverse(self):\n",
    "        temp = self.top\n",
    "        while temp is not None:\n",
    "            print(temp.data)\n",
    "            temp = temp.next\n",
    "    def peek(self):\n",
    "        if (self.isempty()):\n",
    "            return 'stack empty'\n",
    "        else:\n",
    "            return self.top.data\n",
    "    def pop(self):\n",
    "        if (self.isempty()):\n",
    "            return 'Stack id empty'\n",
    "        else:\n",
    "            popped_value = self.top.data  \n",
    "            self.top = self.top.next \n",
    "            return popped_value \n",
    "class QueueUsingStack:\n",
    "    def __init__(self):\n",
    "        self.enque=Stack()\n",
    "        self.deque=Stack()\n",
    "    def enqueue(self,item):\n",
    "        self.enque.push(item)\n",
    "    def dequeue(self):\n",
    "        if self.deque.isempty():\n",
    "            while not self.enque.isempty():\n",
    "                self.deque.push(self.enque.pop()) \n",
    "        if not self.deque.isempty():\n",
    "            return self.deque.pop()\n",
    "        return 'queue is empty'\n",
    "   "
   ]
  },
  {
   "cell_type": "code",
   "execution_count": 3,
   "metadata": {},
   "outputs": [
    {
     "name": "stdout",
     "output_type": "stream",
     "text": [
      "4\n",
      "3\n",
      "2\n",
      "1\n"
     ]
    },
    {
     "data": {
      "text/plain": [
       "False"
      ]
     },
     "execution_count": 3,
     "metadata": {},
     "output_type": "execute_result"
    }
   ],
   "source": [
    "stack = Stack()\n",
    "stack.push(1)  \n",
    "stack.push(2)   \n",
    "stack.push(3)\n",
    "stack.push(4)\n",
    "stack.traverse()\n",
    "stack.isempty()"
   ]
  },
  {
   "cell_type": "code",
   "execution_count": 42,
   "metadata": {},
   "outputs": [
    {
     "data": {
      "text/plain": [
       "4"
      ]
     },
     "execution_count": 42,
     "metadata": {},
     "output_type": "execute_result"
    }
   ],
   "source": [
    "stack.pop()"
   ]
  },
  {
   "cell_type": "code",
   "execution_count": 43,
   "metadata": {},
   "outputs": [
    {
     "data": {
      "text/plain": [
       "3"
      ]
     },
     "execution_count": 43,
     "metadata": {},
     "output_type": "execute_result"
    }
   ],
   "source": [
    "stack.peek()"
   ]
  },
  {
   "cell_type": "code",
   "execution_count": 47,
   "metadata": {},
   "outputs": [
    {
     "name": "stdout",
     "output_type": "stream",
     "text": [
      "sc si siht olleh\n"
     ]
    }
   ],
   "source": [
    "a='hello this is cs'\n",
    "stack =Stack()\n",
    "for i in a:\n",
    "    stack.push(i)\n",
    "rev=''\n",
    "while not (stack.isempty()):\n",
    "    rev+=stack.pop()\n",
    "print(rev)    "
   ]
  },
  {
   "cell_type": "markdown",
   "metadata": {},
   "source": [
    "Queue using Linked List\n"
   ]
  },
  {
   "cell_type": "code",
   "execution_count": 6,
   "metadata": {},
   "outputs": [],
   "source": [
    "class Node:\n",
    "    def __init__(self,value):\n",
    "        self.data = value\n",
    "        self.next =None\n",
    "class Queue:\n",
    "    def __init__(self):\n",
    "        self.front =None\n",
    "        self.rear =None\n",
    "    def enqueue(self,value):\n",
    "        new_node =  Node(value)\n",
    "\n",
    "        if self.rear==None:\n",
    "            self.front =new_node\n",
    "            self.rear = self.front\n",
    "        else:\n",
    "            self.rear.next =new_node\n",
    "            self.rear=new_node\n",
    "    def dequeue(self):\n",
    "        if self.front ==None:\n",
    "            return 'its empty'\n",
    "        else:\n",
    "             self.front = self.front.next  \n",
    "    def traverse(self):\n",
    "        temp =self.front\n",
    "        while temp!= None:\n",
    "            print(temp.data,end=' ')\n",
    "            temp=temp.next\n",
    "    def isempty(self):\n",
    "        return self.front==None\n",
    "    def size(self):\n",
    "       temp= self.front\n",
    "       counter = 0\n",
    "       while temp!=None:\n",
    "        counter +=1\n",
    "        temp=temp.next\n",
    "       return counter\n",
    "    def is_front(self):\n",
    "        if self.front ==None:\n",
    "            return ' it is empty boy'\n",
    "        else:\n",
    "            return self.front.data\n",
    "    def rear_item(self):\n",
    "         if self.rear ==None:\n",
    "            return ' it is empty boy'\n",
    "         else:\n",
    "            return self.rear.data\n",
    "                "
   ]
  },
  {
   "cell_type": "code",
   "execution_count": 95,
   "metadata": {},
   "outputs": [
    {
     "name": "stdout",
     "output_type": "stream",
     "text": [
      "1 2 3 "
     ]
    }
   ],
   "source": [
    "q= Queue()\n",
    "q.enqueue(1)\n",
    "q.enqueue(2)\n",
    "q.enqueue(3)\n",
    "q.traverse()"
   ]
  },
  {
   "cell_type": "code",
   "execution_count": 96,
   "metadata": {},
   "outputs": [],
   "source": [
    "q.dequeue()"
   ]
  },
  {
   "cell_type": "code",
   "execution_count": 97,
   "metadata": {},
   "outputs": [
    {
     "name": "stdout",
     "output_type": "stream",
     "text": [
      "2 3 "
     ]
    }
   ],
   "source": [
    "q.traverse()"
   ]
  },
  {
   "cell_type": "code",
   "execution_count": 100,
   "metadata": {},
   "outputs": [
    {
     "data": {
      "text/plain": [
       "3"
      ]
     },
     "execution_count": 100,
     "metadata": {},
     "output_type": "execute_result"
    }
   ],
   "source": [
    "q.is_front()\n",
    "q.rear_item()"
   ]
  },
  {
   "cell_type": "markdown",
   "metadata": {},
   "source": [
    "making staks behave as a queue\n"
   ]
  },
  {
   "cell_type": "code",
   "execution_count": 4,
   "metadata": {},
   "outputs": [
    {
     "name": "stdout",
     "output_type": "stream",
     "text": [
      "1\n",
      "2\n",
      "3\n",
      "4\n",
      "queue is empty\n"
     ]
    }
   ],
   "source": [
    "if __name__ == \"__main__\":\n",
    "    queue = QueueUsingStack()\n",
    "    queue.enqueue(1)\n",
    "    queue.enqueue(2)\n",
    "    queue.enqueue(3)\n",
    "\n",
    "    print(queue.dequeue())  # Output: 1\n",
    "    print(queue.dequeue())  # Output: 2\n",
    "    queue.enqueue(4)\n",
    "    print(queue.dequeue())  # Output: 3\n",
    "    print(queue.dequeue())  # Output: 4\n",
    "    print(queue.dequeue())"
   ]
  },
  {
   "cell_type": "code",
   "execution_count": 1,
   "metadata": {},
   "outputs": [
    {
     "name": "stdout",
     "output_type": "stream",
     "text": [
      "321\n"
     ]
    }
   ],
   "source": [
    "def reverse_number(num):\n",
    "    reversed_num = 0\n",
    "    while num > 0:\n",
    "        last_digit = num % 10          # Get the last digit (remainder)\n",
    "        reversed_num = reversed_num * 10 + last_digit  # Build the reversed number\n",
    "        num = num // 10                # Remove the last digit from the original number\n",
    "    return reversed_num\n",
    "\n",
    "# Example usage\n",
    "number = 123\n",
    "result = reverse_number(number)\n",
    "print(result)  # Output: 321\n"
   ]
  },
  {
   "cell_type": "code",
   "execution_count": null,
   "metadata": {},
   "outputs": [],
   "source": []
  }
 ],
 "metadata": {
  "kernelspec": {
   "display_name": "base",
   "language": "python",
   "name": "python3"
  },
  "language_info": {
   "codemirror_mode": {
    "name": "ipython",
    "version": 3
   },
   "file_extension": ".py",
   "mimetype": "text/x-python",
   "name": "python",
   "nbconvert_exporter": "python",
   "pygments_lexer": "ipython3",
   "version": "3.12.4"
  }
 },
 "nbformat": 4,
 "nbformat_minor": 2
}
